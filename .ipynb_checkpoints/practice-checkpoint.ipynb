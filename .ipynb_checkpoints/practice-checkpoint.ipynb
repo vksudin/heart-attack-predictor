{
 "cells": [
  {
   "cell_type": "code",
   "execution_count": 1,
   "id": "69e15298",
   "metadata": {},
   "outputs": [],
   "source": [
    "import numpy as np"
   ]
  },
  {
   "cell_type": "code",
   "execution_count": 7,
   "id": "f1464872",
   "metadata": {},
   "outputs": [],
   "source": [
    "def gradient_decent(x,y):\n",
    "    m_curr=b_curr=0\n",
    "    learning_rate=0.01\n",
    "    iterations=100\n",
    "    n=len(x)\n",
    "    for i in range(iterations):\n",
    "        yp=m_curr*x+b_curr\n",
    "        cost=sum([val**2 for val in (y-yp)])\n",
    "        dm=-2/n*sum(x*(y-yp))\n",
    "        db=-2/n*sum(y-yp)\n",
    "        m_curr=m_curr-learning_rate*dm\n",
    "        b_curr=b_curr-learning_rate*db\n",
    "        print(m_curr,\" \",b_curr)"
   ]
  },
  {
   "cell_type": "code",
   "execution_count": 8,
   "id": "6ec26449",
   "metadata": {},
   "outputs": [
    {
     "name": "stdout",
     "output_type": "stream",
     "text": [
      "0.062   0.018000000000000002\n",
      "0.122528   0.035592000000000006\n",
      "0.181618832   0.052785648000000004\n",
      "0.239306503808   0.069590363712\n",
      "0.29562421854195203   0.086015343961728\n",
      "0.35060439367025875   0.10206956796255283\n",
      "0.40427867960173774   0.11776180246460617\n",
      "0.4566779778357119   0.13310060678206653\n",
      "0.5078324586826338   0.14809433770148814\n",
      "0.5577715785654069   0.16275115427398937\n"
     ]
    }
   ],
   "source": [
    "gradient_decent(np.array([1,2,3,4,5]),np.array([5,7,9,11,13]))"
   ]
  },
  {
   "cell_type": "code",
   "execution_count": null,
   "id": "7f840a7f",
   "metadata": {},
   "outputs": [],
   "source": []
  }
 ],
 "metadata": {
  "kernelspec": {
   "display_name": "Python 3 (ipykernel)",
   "language": "python",
   "name": "python3"
  },
  "language_info": {
   "codemirror_mode": {
    "name": "ipython",
    "version": 3
   },
   "file_extension": ".py",
   "mimetype": "text/x-python",
   "name": "python",
   "nbconvert_exporter": "python",
   "pygments_lexer": "ipython3",
   "version": "3.9.7"
  }
 },
 "nbformat": 4,
 "nbformat_minor": 5
}
